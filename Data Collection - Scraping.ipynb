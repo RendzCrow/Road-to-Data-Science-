{
 "cells": [
  {
   "cell_type": "markdown",
   "metadata": {},
   "source": [
    "<p style=\"text-align:center\">\n",
    "    <a href=\"https://skills.network\" target=\"_blank\">\n",
    "    <img src=\"https://cf-courses-data.s3.us.cloud-object-storage.appdomain.cloud/assets/logos/SN_web_lightmode.png\" width=\"200\" alt=\"Skills Network Logo\">\n",
    "    </a>\n",
    "</p>\n"
   ]
  },
  {
   "cell_type": "markdown",
   "metadata": {},
   "source": [
    "# **Space X  Falcon 9 First Stage Landing Prediction**\n"
   ]
  },
  {
   "cell_type": "markdown",
   "metadata": {},
   "source": [
    "## Web scraping Falcon 9 and Falcon Heavy Launches Records from Wikipedia\n"
   ]
  },
  {
   "cell_type": "markdown",
   "metadata": {},
   "source": [
    "Estimated time needed: **40** minutes\n"
   ]
  },
  {
   "cell_type": "markdown",
   "metadata": {},
   "source": [
    "In this lab, you will be performing web scraping to collect Falcon 9 historical launch records from a Wikipedia page titled `List of Falcon 9 and Falcon Heavy launches`\n",
    "\n",
    "https://en.wikipedia.org/wiki/List_of_Falcon_9_and_Falcon_Heavy_launches\n"
   ]
  },
  {
   "cell_type": "markdown",
   "metadata": {},
   "source": [
    "![](https://cf-courses-data.s3.us.cloud-object-storage.appdomain.cloud/IBM-DS0321EN-SkillsNetwork/labs/module_1_L2/images/Falcon9_rocket_family.svg)\n"
   ]
  },
  {
   "cell_type": "markdown",
   "metadata": {},
   "source": [
    "Falcon 9 first stage will land successfully\n"
   ]
  },
  {
   "cell_type": "markdown",
   "metadata": {},
   "source": [
    "![](https://cf-courses-data.s3.us.cloud-object-storage.appdomain.cloud/IBMDeveloperSkillsNetwork-DS0701EN-SkillsNetwork/api/Images/landing_1.gif)\n"
   ]
  },
  {
   "cell_type": "markdown",
   "metadata": {},
   "source": [
    "Several examples of an unsuccessful landing are shown here:\n"
   ]
  },
  {
   "cell_type": "markdown",
   "metadata": {},
   "source": [
    "![](https://cf-courses-data.s3.us.cloud-object-storage.appdomain.cloud/IBMDeveloperSkillsNetwork-DS0701EN-SkillsNetwork/api/Images/crash.gif)\n"
   ]
  },
  {
   "cell_type": "markdown",
   "metadata": {},
   "source": [
    "More specifically, the launch records are stored in a HTML table shown below:\n"
   ]
  },
  {
   "cell_type": "markdown",
   "metadata": {},
   "source": [
    "![](https://cf-courses-data.s3.us.cloud-object-storage.appdomain.cloud/IBM-DS0321EN-SkillsNetwork/labs/module_1_L2/images/falcon9-launches-wiki.png)\n"
   ]
  },
  {
   "cell_type": "markdown",
   "metadata": {},
   "source": [
    "  ## Objectives\n",
    "Web scrap Falcon 9 launch records with `BeautifulSoup`: \n",
    "- Extract a Falcon 9 launch records HTML table from Wikipedia\n",
    "- Parse the table and convert it into a Pandas data frame\n"
   ]
  },
  {
   "cell_type": "markdown",
   "metadata": {},
   "source": [
    "First let's import required packages for this lab\n"
   ]
  },
  {
   "cell_type": "code",
   "execution_count": 1,
   "metadata": {},
   "outputs": [
    {
     "name": "stdout",
     "output_type": "stream",
     "text": [
      "Requirement already satisfied: beautifulsoup4 in /home/jupyterlab/conda/envs/python/lib/python3.7/site-packages (4.11.1)\n",
      "Requirement already satisfied: soupsieve>1.2 in /home/jupyterlab/conda/envs/python/lib/python3.7/site-packages (from beautifulsoup4) (2.3.2.post1)\n",
      "Requirement already satisfied: requests in /home/jupyterlab/conda/envs/python/lib/python3.7/site-packages (2.29.0)\n",
      "Requirement already satisfied: charset-normalizer<4,>=2 in /home/jupyterlab/conda/envs/python/lib/python3.7/site-packages (from requests) (3.1.0)\n",
      "Requirement already satisfied: idna<4,>=2.5 in /home/jupyterlab/conda/envs/python/lib/python3.7/site-packages (from requests) (3.4)\n",
      "Requirement already satisfied: urllib3<1.27,>=1.21.1 in /home/jupyterlab/conda/envs/python/lib/python3.7/site-packages (from requests) (1.26.15)\n",
      "Requirement already satisfied: certifi>=2017.4.17 in /home/jupyterlab/conda/envs/python/lib/python3.7/site-packages (from requests) (2023.5.7)\n"
     ]
    }
   ],
   "source": [
    "!pip3 install beautifulsoup4\n",
    "!pip3 install requests"
   ]
  },
  {
   "cell_type": "code",
   "execution_count": 45,
   "metadata": {},
   "outputs": [],
   "source": [
    "import sys\n",
    "\n",
    "import requests\n",
    "from bs4 import BeautifulSoup\n",
    "import re\n",
    "import unicodedata\n",
    "import pandas as pd"
   ]
  },
  {
   "cell_type": "markdown",
   "metadata": {},
   "source": [
    "and we will provide some helper functions for you to process web scraped HTML table\n"
   ]
  },
  {
   "cell_type": "code",
   "execution_count": 95,
   "metadata": {},
   "outputs": [],
   "source": [
    "def date_time(table_cells):\n",
    "    \"\"\"\n",
    "    This function returns the data and time from the HTML  table cell\n",
    "    Input: the  element of a table data cell extracts extra row\n",
    "    \"\"\"\n",
    "    return [data_time.strip() for data_time in list(table_cells.strings)][0:2]\n",
    "\n",
    "def booster_version(table_cells):\n",
    "    \"\"\"\n",
    "    This function returns the booster version from the HTML  table cell \n",
    "    Input: the  element of a table data cell extracts extra row\n",
    "    \"\"\"\n",
    "    out=''.join([booster_version for i,booster_version in enumerate( table_cells.strings) if i%2==0][0:-1])\n",
    "    return out\n",
    "\n",
    "def landing_status(table_cells):\n",
    "    \"\"\"\n",
    "    This function returns the landing status from the HTML table cell \n",
    "    Input: the  element of a table data cell extracts extra row\n",
    "    \"\"\"\n",
    "    out=[i for i in table_cells.strings][0]\n",
    "    return out\n",
    "\n",
    "\n",
    "def get_mass(table_cells):\n",
    "    mass=unicodedata.normalize(\"NFKD\", table_cells.text).strip()\n",
    "    if mass:\n",
    "        mass.find(\"kg\")\n",
    "        new_mass=mass[0:mass.find(\"kg\")+2]\n",
    "    else:\n",
    "        new_mass=0\n",
    "    return new_mass\n",
    "\n",
    "\n",
    "def extract_column_from_header(row):\n",
    "    \"\"\"\n",
    "    This function returns the landing status from the HTML table cell \n",
    "    Input: the  element of a table data cell extracts extra row\n",
    "    \"\"\"\n",
    "    if (row.br):\n",
    "        row.br.extract()\n",
    "    if row.a:\n",
    "        row.a.extract()\n",
    "    if row.sup:\n",
    "        row.sup.extract()\n",
    "        \n",
    "    colunm_name = ' '.join(row.contents)\n",
    "    \n",
    "    # Filter the digit and empty names\n",
    "    if not(colunm_name.strip().isdigit()):\n",
    "        colunm_name = colunm_name.strip()\n",
    "        return colunm_name    \n"
   ]
  },
  {
   "cell_type": "markdown",
   "metadata": {},
   "source": [
    "To keep the lab tasks consistent, you will be asked to scrape the data from a snapshot of the  `List of Falcon 9 and Falcon Heavy launches` Wikipage updated on\n",
    "`9th June 2021`\n"
   ]
  },
  {
   "cell_type": "code",
   "execution_count": 47,
   "metadata": {},
   "outputs": [],
   "source": [
    "static_url = \"https://en.wikipedia.org/w/index.php?title=List_of_Falcon_9_and_Falcon_Heavy_launches&oldid=1027686922\""
   ]
  },
  {
   "cell_type": "markdown",
   "metadata": {},
   "source": [
    "Next, request the HTML page from the above URL and get a `response` object\n"
   ]
  },
  {
   "cell_type": "markdown",
   "metadata": {},
   "source": [
    "### TASK 1: Request the Falcon9 Launch Wiki page from its URL\n"
   ]
  },
  {
   "cell_type": "markdown",
   "metadata": {},
   "source": [
    "First, let's perform an HTTP GET method to request the Falcon9 Launch HTML page, as an HTTP response.\n"
   ]
  },
  {
   "cell_type": "code",
   "execution_count": 48,
   "metadata": {},
   "outputs": [],
   "source": [
    "# use requests.get() method with the provided static_url\n",
    "# assign the response to a object\n",
    "r = requests.get(static_url)"
   ]
  },
  {
   "cell_type": "markdown",
   "metadata": {},
   "source": [
    "Create a `BeautifulSoup` object from the HTML `response`\n"
   ]
  },
  {
   "cell_type": "code",
   "execution_count": 69,
   "metadata": {},
   "outputs": [],
   "source": [
    "# Use BeautifulSoup() to create a BeautifulSoup object from a response text content\n",
    "soup = BeautifulSoup(r.content, 'html.parser')"
   ]
  },
  {
   "cell_type": "markdown",
   "metadata": {},
   "source": [
    "Print the page title to verify if the `BeautifulSoup` object was created properly \n"
   ]
  },
  {
   "cell_type": "code",
   "execution_count": 70,
   "metadata": {},
   "outputs": [
    {
     "name": "stdout",
     "output_type": "stream",
     "text": [
      "Page Title:List of Falcon 9 and Falcon Heavy launches - Wikipedia\n"
     ]
    }
   ],
   "source": [
    "# Use soup.title attribute\n",
    "title = soup.title.string\n",
    "print(f\"Page Title:{title}\")"
   ]
  },
  {
   "cell_type": "markdown",
   "metadata": {},
   "source": [
    "### TASK 2: Extract all column/variable names from the HTML table header\n"
   ]
  },
  {
   "cell_type": "markdown",
   "metadata": {},
   "source": [
    "Next, we want to collect all relevant column names from the HTML table header\n"
   ]
  },
  {
   "cell_type": "markdown",
   "metadata": {},
   "source": [
    "Let's try to find all tables on the wiki page first. If you need to refresh your memory about `BeautifulSoup`, please check the external reference link towards the end of this lab\n"
   ]
  },
  {
   "cell_type": "code",
   "execution_count": 30,
   "metadata": {},
   "outputs": [],
   "source": [
    "# Use the find_all function in the BeautifulSoup object, with element type `table`\n",
    "# Assign the result to a list called `html_tables`\n",
    "html_tables = soup.find_all('table')"
   ]
  },
  {
   "cell_type": "markdown",
   "metadata": {},
   "source": [
    "Starting from the third table is our target table contains the actual launch records.\n"
   ]
  },
  {
   "cell_type": "code",
   "execution_count": 31,
   "metadata": {},
   "outputs": [],
   "source": [
    "# Let's print the third table and check its content\n",
    "first_launch_table = html_tables[2]\n",
    "# print(first_launch_table)"
   ]
  },
  {
   "cell_type": "markdown",
   "metadata": {},
   "source": [
    "You should able to see the columns names embedded in the table header elements `<th>` as follows:\n"
   ]
  },
  {
   "cell_type": "markdown",
   "metadata": {},
   "source": [
    "```\n",
    "<tr>\n",
    "<th scope=\"col\">Flight No.\n",
    "</th>\n",
    "<th scope=\"col\">Date and<br/>time (<a href=\"/wiki/Coordinated_Universal_Time\" title=\"Coordinated Universal Time\">UTC</a>)\n",
    "</th>\n",
    "<th scope=\"col\"><a href=\"/wiki/List_of_Falcon_9_first-stage_boosters\" title=\"List of Falcon 9 first-stage boosters\">Version,<br/>Booster</a> <sup class=\"reference\" id=\"cite_ref-booster_11-0\"><a href=\"#cite_note-booster-11\">[b]</a></sup>\n",
    "</th>\n",
    "<th scope=\"col\">Launch site\n",
    "</th>\n",
    "<th scope=\"col\">Payload<sup class=\"reference\" id=\"cite_ref-Dragon_12-0\"><a href=\"#cite_note-Dragon-12\">[c]</a></sup>\n",
    "</th>\n",
    "<th scope=\"col\">Payload mass\n",
    "</th>\n",
    "<th scope=\"col\">Orbit\n",
    "</th>\n",
    "<th scope=\"col\">Customer\n",
    "</th>\n",
    "<th scope=\"col\">Launch<br/>outcome\n",
    "</th>\n",
    "<th scope=\"col\"><a href=\"/wiki/Falcon_9_first-stage_landing_tests\" title=\"Falcon 9 first-stage landing tests\">Booster<br/>landing</a>\n",
    "</th></tr>\n",
    "```\n"
   ]
  },
  {
   "cell_type": "markdown",
   "metadata": {},
   "source": [
    "Next, we just need to iterate through the `<th>` elements and apply the provided `extract_column_from_header()` to extract column name one by one\n"
   ]
  },
  {
   "cell_type": "code",
   "execution_count": null,
   "metadata": {},
   "outputs": [],
   "source": [
    "first_launch_table"
   ]
  },
  {
   "cell_type": "code",
   "execution_count": 54,
   "metadata": {},
   "outputs": [],
   "source": [
    "def extract_column_from_header(th):\n",
    "    if th.string:\n",
    "        return th.string.strip()\n",
    "    return None\n",
    "\n",
    "column_names = []\n",
    "\n",
    "th_elements = first_launch_table.find_all('th')\n",
    "\n",
    "for th in th_elements:\n",
    "    name = extract_column_from_header(th)\n",
    "    \n",
    "    if name is not None and len(name)>0:\n",
    "        column_names.append(name)\n",
    "\n",
    "# Apply find_all() function with `th` element on first_launch_table\n",
    "# Iterate each th element and apply the provided extract_column_from_header() to get a column name\n",
    "# Append the Non-empty column name (`if name is not None and len(name) > 0`) into a list called column_names\n"
   ]
  },
  {
   "cell_type": "markdown",
   "metadata": {},
   "source": [
    "Check the extracted column names\n"
   ]
  },
  {
   "cell_type": "code",
   "execution_count": 57,
   "metadata": {},
   "outputs": [
    {
     "name": "stdout",
     "output_type": "stream",
     "text": [
      "['Flight No.', 'Launch site', 'Payload mass', 'Orbit', 'Customer', '1', '2', '3', '4', '5', '6', '7']\n"
     ]
    }
   ],
   "source": [
    "print(column_names)"
   ]
  },
  {
   "cell_type": "markdown",
   "metadata": {},
   "source": [
    "## TASK 3: Create a data frame by parsing the launch HTML tables\n"
   ]
  },
  {
   "cell_type": "markdown",
   "metadata": {},
   "source": [
    "We will create an empty dictionary with keys from the extracted column names in the previous task. Later, this dictionary will be converted into a Pandas dataframe\n"
   ]
  },
  {
   "cell_type": "code",
   "execution_count": 97,
   "metadata": {},
   "outputs": [],
   "source": [
    "launch_dict= dict.fromkeys(column_names)\n",
    "\n",
    "# Remove an irrelvant column\n",
    "#del launch_dict['Date and time ( )']\n",
    "\n",
    "# Let's initial the launch_dict with each value to be an empty list\n",
    "launch_dict['Flight No.'] = []\n",
    "launch_dict['Launch site'] = []\n",
    "launch_dict['Payload'] = []\n",
    "launch_dict['Payload mass'] = []\n",
    "launch_dict['Orbit'] = []\n",
    "launch_dict['Customer'] = []\n",
    "launch_dict['Launch outcome'] = []\n",
    "# Added some new columns\n",
    "launch_dict['Version Booster']=[]\n",
    "launch_dict['Booster landing']=[]\n",
    "launch_dict['Date']=[]\n",
    "launch_dict['Time']=[]"
   ]
  },
  {
   "cell_type": "code",
   "execution_count": 87,
   "metadata": {
    "tags": []
   },
   "outputs": [
    {
     "name": "stdout",
     "output_type": "stream",
     "text": [
      "['Flight No.', 'Launch site', 'Payload mass', 'Orbit', 'Customer', '1', '2', '3', '4', '5', '6', '7']\n"
     ]
    }
   ],
   "source": [
    "print(column_names)"
   ]
  },
  {
   "cell_type": "markdown",
   "metadata": {},
   "source": [
    "Next, we just need to fill up the `launch_dict` with launch records extracted from table rows.\n"
   ]
  },
  {
   "cell_type": "markdown",
   "metadata": {},
   "source": [
    "Usually, HTML tables in Wiki pages are likely to contain unexpected annotations and other types of noises, such as reference links `B0004.1[8]`, missing values `N/A [e]`, inconsistent formatting, etc.\n"
   ]
  },
  {
   "cell_type": "markdown",
   "metadata": {},
   "source": [
    "To simplify the parsing process, we have provided an incomplete code snippet below to help you to fill up the `launch_dict`. Please complete the following code snippet with TODOs or you can choose to write your own logic to parse all launch tables:\n"
   ]
  },
  {
   "cell_type": "markdown",
   "metadata": {},
   "source": [
    "After you have fill in the parsed launch record values into `launch_dict`, you can create a dataframe from it.\n"
   ]
  },
  {
   "cell_type": "code",
   "execution_count": 98,
   "metadata": {
    "tags": []
   },
   "outputs": [],
   "source": [
    "from bs4 import BeautifulSoup\n",
    "import pandas as pd\n",
    "\n",
    "# Helper functions\n",
    "def extract_date_time(cell):\n",
    "    \"\"\"Extract date and time from a table cell.\"\"\"\n",
    "    if cell:\n",
    "        datatimelist = cell.text.strip().split()\n",
    "        date = datatimelist[0].strip(',') if len(datatimelist) > 0 else None\n",
    "        time = datatimelist[1] if len(datatimelist) > 1 else None\n",
    "        return date, time\n",
    "    return None, None\n",
    "\n",
    "def extract_booster_version(cell):\n",
    "    \"\"\"Extract booster version from a table cell.\"\"\"\n",
    "    if cell:\n",
    "        return cell.text.strip()\n",
    "    return None\n",
    "\n",
    "def extract_launch_site(cell):\n",
    "    \"\"\"Extract launch site from a table cell.\"\"\"\n",
    "    if cell and cell.a:\n",
    "        return cell.a.text.strip()\n",
    "    return None\n",
    "\n",
    "def extract_payload(cell):\n",
    "    \"\"\"Extract payload from a table cell.\"\"\"\n",
    "    if cell and cell.a:\n",
    "        return cell.a.text.strip()\n",
    "    return None\n",
    "\n",
    "def extract_payload_mass(cell):\n",
    "    \"\"\"Extract payload mass from a table cell.\"\"\"\n",
    "    if cell:\n",
    "        return cell.text.strip()\n",
    "    return None\n",
    "\n",
    "def extract_orbit(cell):\n",
    "    \"\"\"Extract orbit from a table cell.\"\"\"\n",
    "    if cell and cell.a:\n",
    "        return cell.a.text.strip()\n",
    "    return None\n",
    "\n",
    "def extract_customer(cell):\n",
    "    \"\"\"Extract customer from a table cell.\"\"\"\n",
    "    if cell and cell.a:\n",
    "        return cell.a.text.strip()\n",
    "    return None\n",
    "\n",
    "def extract_launch_outcome(cell):\n",
    "    \"\"\"Extract launch outcome from a table cell.\"\"\"\n",
    "    if cell:\n",
    "        return cell.text.strip()\n",
    "    return None\n",
    "\n",
    "def extract_booster_landing(cell):\n",
    "    \"\"\"Extract booster landing status from a table cell.\"\"\"\n",
    "    if cell:\n",
    "        return cell.text.strip()\n",
    "    return None\n",
    "\n",
    "# Initialize variables\n",
    "extracted_row = 0\n",
    "launch_dict = {}\n",
    "\n",
    "# Extract each table\n",
    "for table_number, table in enumerate(soup.find_all('table', class_='wikitable plainrowheaders collapsible')):\n",
    "    # Get table rows\n",
    "    for rows in table.find_all(\"tr\"):\n",
    "        # Check if the first table heading is a number corresponding to a launch number\n",
    "        if rows.th and rows.th.string:\n",
    "            flight_number = rows.th.string.strip()\n",
    "            flag = flight_number.isdigit()\n",
    "        else:\n",
    "            flag = False\n",
    "\n",
    "        # Get table elements\n",
    "        row = rows.find_all('td')\n",
    "\n",
    "        # If it is a number, save cells in a dictionary\n",
    "        if flag and len(row) >= 9:  # Ensure there are enough columns\n",
    "            extracted_row += 1\n",
    "\n",
    "            # Flight Number value\n",
    "            launch_dict[flight_number] = {}\n",
    "            launch_dict[flight_number]['Flight No.'] = flight_number\n",
    "\n",
    "            # Extract date and time\n",
    "            date, time = extract_date_time(row[0])\n",
    "            launch_dict[flight_number]['Date'] = date\n",
    "            launch_dict[flight_number]['Time'] = time\n",
    "\n",
    "            # Booster version\n",
    "            bv = extract_booster_version(row[1])\n",
    "            launch_dict[flight_number]['Version Booster'] = bv\n",
    "\n",
    "            # Launch Site\n",
    "            launch_site = extract_launch_site(row[2])\n",
    "            launch_dict[flight_number]['Launch Site'] = launch_site\n",
    "\n",
    "            # Payload\n",
    "            payload = extract_payload(row[3])\n",
    "            launch_dict[flight_number]['Payload'] = payload\n",
    "\n",
    "            # Payload Mass\n",
    "            payload_mass = extract_payload_mass(row[4])\n",
    "            launch_dict[flight_number]['Payload mass'] = payload_mass\n",
    "\n",
    "            # Orbit\n",
    "            orbit = extract_orbit(row[5])\n",
    "            launch_dict[flight_number]['Orbit'] = orbit\n",
    "\n",
    "            # Customer\n",
    "            customer = extract_customer(row[6])\n",
    "            launch_dict[flight_number]['Customer'] = customer\n",
    "\n",
    "            # Launch outcome\n",
    "            launch_outcome = extract_launch_outcome(row[7])\n",
    "            launch_dict[flight_number]['Launch outcome'] = launch_outcome\n",
    "\n",
    "            # Booster landing\n",
    "            booster_landing = extract_booster_landing(row[8])\n",
    "            launch_dict[flight_number]['Booster landing'] = booster_landing\n",
    "\n",
    "# Convert dictionary to DataFrame\n",
    "df = pd.DataFrame({key: pd.Series(value, dtype='object') for key, value in launch_dict.items()})"
   ]
  },
  {
   "cell_type": "code",
   "execution_count": 111,
   "metadata": {
    "tags": []
   },
   "outputs": [
    {
     "name": "stdout",
     "output_type": "stream",
     "text": [
      "   Flight No. Date       Time       Version Booster     Launch Site  \\\n",
      "1           1    4       June  F9 v1.0[7]B0003.1[8]           CCAFS   \n",
      "2           2    8   December  F9 v1.0[7]B0004.1[8]           CCAFS   \n",
      "3           3   22        May  F9 v1.0[7]B0005.1[8]           CCAFS   \n",
      "4           4    8    October  F9 v1.0[7]B0006.1[8]           CCAFS   \n",
      "5           5    1      March  F9 v1.0[7]B0007.1[8]           CCAFS   \n",
      "6           6   29  September    F9 v1.1[7]B1003[8]            VAFB   \n",
      "7           7    3   December          F9 v1.1B1004           CCAFS   \n",
      "8           8    6    January               F9 v1.1           CCAFS   \n",
      "9           9   18      April               F9 v1.1  Cape Canaveral   \n",
      "10         10   14       July               F9 v1.1  Cape Canaveral   \n",
      "11         11    5     August               F9 v1.1  Cape Canaveral   \n",
      "12         12    7  September       F9 v1.1B1011[8]  Cape Canaveral   \n",
      "13         13   21  September       F9 v1.1B1010[8]  Cape Canaveral   \n",
      "14         14   10    January       F9 v1.1B1012[8]  Cape Canaveral   \n",
      "15         15   11   February       F9 v1.1B1013[8]  Cape Canaveral   \n",
      "16         16    2      March       F9 v1.1B1014[8]  Cape Canaveral   \n",
      "17         17   14      April       F9 v1.1B1015[8]  Cape Canaveral   \n",
      "18         18   27      April       F9 v1.1B1016[8]  Cape Canaveral   \n",
      "19         19   28       June       F9 v1.1B1018[8]  Cape Canaveral   \n",
      "20         20   22   December      F9 FTB1019.1[98]  Cape Canaveral   \n",
      "\n",
      "                                 Payload             Payload mass  \\\n",
      "1   Dragon Spacecraft Qualification Unit                            \n",
      "2                                 Dragon                            \n",
      "3                                 Dragon    525 kg (1,157 lb)[19]   \n",
      "4                           SpaceX CRS-1     4,700 kg (10,400 lb)   \n",
      "5                           SpaceX CRS-2     4,877 kg (10,752 lb)   \n",
      "6                               CASSIOPE        500 kg (1,100 lb)   \n",
      "7                                  SES-8      3,170 kg (6,990 lb)   \n",
      "8                              Thaicom 6      3,325 kg (7,330 lb)   \n",
      "9                           SpaceX CRS-3  2,296 kg (5,062 lb)[45]   \n",
      "10                           Orbcomm-OG2      1,316 kg (2,901 lb)   \n",
      "11                             AsiaSat 8      4,535 kg (9,998 lb)   \n",
      "12                             AsiaSat 6      4,428 kg (9,762 lb)   \n",
      "13                          SpaceX CRS-4  2,216 kg (4,885 lb)[62]   \n",
      "14                          SpaceX CRS-5  2,395 kg (5,280 lb)[69]   \n",
      "15                                DSCOVR        570 kg (1,260 lb)   \n",
      "16                                ABS-3A      4,159 kg (9,169 lb)   \n",
      "17                          SpaceX CRS-6  1,898 kg (4,184 lb)[82]   \n",
      "18          TürkmenÄlem 52°E / MonacoSAT     4,707 kg (10,377 lb)   \n",
      "19                          SpaceX CRS-7  1,952 kg (4,303 lb)[92]   \n",
      "20                           Orbcomm-OG2      2,034 kg (4,484 lb)   \n",
      "\n",
      "          Orbit                           Customer          Launch outcome  \\\n",
      "1           LEO                             SpaceX                 Success   \n",
      "2           LEO                               NASA              Success[9]   \n",
      "3           LEO                               NASA             Success[20]   \n",
      "4           LEO                               NASA                 Success   \n",
      "5           LEO                               NASA                 Success   \n",
      "6   Polar orbit                                MDA             Success[30]   \n",
      "7           GTO                                SES             Success[37]   \n",
      "8           GTO                            Thaicom             Success[42]   \n",
      "9           LEO                               NASA                 Success   \n",
      "10          LEO                            Orbcomm             Success[51]   \n",
      "11          GTO                            AsiaSat             Success[56]   \n",
      "12          GTO                            AsiaSat             Success[59]   \n",
      "13          LEO                               NASA             Success[63]   \n",
      "14          LEO                               NASA             Success[70]   \n",
      "15          HEO                               USAF                 Success   \n",
      "16          GTO                                ABS                 Success   \n",
      "17          LEO                               NASA                 Success   \n",
      "18          GTO  Turkmenistan NationalSpace Agency                 Success   \n",
      "19          LEO                               NASA  Failure[93](in flight)   \n",
      "20          LEO                            Orbcomm                 Success   \n",
      "\n",
      "               Booster landing  \n",
      "1    Failure[9][10](parachute)  \n",
      "2    Failure[9][14](parachute)  \n",
      "3                   No attempt  \n",
      "4                   No attempt  \n",
      "5                   No attempt  \n",
      "6       Uncontrolled(ocean)[d]  \n",
      "7               No attempt[38]  \n",
      "8               No attempt[43]  \n",
      "9    Controlled(ocean) [d][46]  \n",
      "10    Controlled(ocean)[d][46]  \n",
      "11              No attempt[57]  \n",
      "12                  No attempt  \n",
      "13  Uncontrolled(ocean)[d][64]  \n",
      "14        Failure (drone ship)  \n",
      "15        Controlled(ocean)[d]  \n",
      "16              No attempt[77]  \n",
      "17     Failure[83](drone ship)  \n",
      "18              No attempt[89]  \n",
      "19   Precluded[94](drone ship)  \n",
      "20     Success[99](ground pad)  \n"
     ]
    }
   ],
   "source": [
    "df_transposed = df.T\n",
    "\n",
    "# Print the transposed DataFrame\n",
    "print(df_transposed.head(20))"
   ]
  },
  {
   "cell_type": "code",
   "execution_count": 113,
   "metadata": {
    "tags": []
   },
   "outputs": [
    {
     "name": "stdout",
     "output_type": "stream",
     "text": [
      "\n",
      "Number of Falcon 9 launches: 0\n"
     ]
    }
   ],
   "source": [
    "rocket_column = 'Version Booster'  # Column name for booster version\n",
    "df_falcon9 = df_transposed[df_transposed[rocket_column].str.contains('F9 v1.2', na=False)]\n",
    "num_falcon9_launches = len(df_falcon9)\n",
    "\n",
    "# Print the filtered DataFrame and count\n",
    "print(f\"\\nNumber of Falcon 9 launches: {num_falcon9_launches}\")"
   ]
  },
  {
   "cell_type": "code",
   "execution_count": 110,
   "metadata": {
    "tags": []
   },
   "outputs": [
    {
     "name": "stdout",
     "output_type": "stream",
     "text": [
      "Number of missing values in 'landingPad': 0\n"
     ]
    }
   ],
   "source": [
    "# Assuming df is your original DataFrame\n",
    "df_transposed = df.T  # Transpose the DataFrame\n",
    "\n",
    "# Check if 'landingPad' exists in the transposed DataFrame\n",
    "if 'Booster landing' in df_transposed.columns:\n",
    "    # Count missing values in the 'landingPad' column\n",
    "    missing_landingPad = df_transposed['Booster landing'].isna().sum()\n",
    "    print(f\"Number of missing values in 'landingPad': {missing_landingPad}\")\n",
    "else:\n",
    "    print(\"Column 'landingPad' does not exist in the transposed DataFrame.\")"
   ]
  },
  {
   "cell_type": "markdown",
   "metadata": {},
   "source": [
    "We can now export it to a <b>CSV</b> for the next section, but to make the answers consistent and in case you have difficulties finishing this lab. \n",
    "\n",
    "Following labs will be using a provided dataset to make each lab independent. \n"
   ]
  },
  {
   "cell_type": "markdown",
   "metadata": {},
   "source": [
    "<code>df.to_csv('spacex_web_scraped.csv', index=False)</code>\n"
   ]
  },
  {
   "cell_type": "markdown",
   "metadata": {},
   "source": [
    "## Authors\n"
   ]
  },
  {
   "cell_type": "markdown",
   "metadata": {},
   "source": [
    "<a href=\"https://www.linkedin.com/in/yan-luo-96288783/\">Yan Luo</a>\n"
   ]
  },
  {
   "cell_type": "markdown",
   "metadata": {},
   "source": [
    "<a href=\"https://www.linkedin.com/in/nayefaboutayoun/\">Nayef Abou Tayoun</a>\n"
   ]
  },
  {
   "cell_type": "markdown",
   "metadata": {},
   "source": [
    "<!--\n",
    "## Change Log\n",
    "-->\n"
   ]
  },
  {
   "cell_type": "markdown",
   "metadata": {},
   "source": [
    "<!--\n",
    "| Date (YYYY-MM-DD) | Version | Changed By | Change Description      |\n",
    "| ----------------- | ------- | ---------- | ----------------------- |\n",
    "| 2021-06-09        | 1.0     | Yan Luo    | Tasks updates           |\n",
    "| 2020-11-10        | 1.0     | Nayef      | Created the initial version |\n",
    "-->\n"
   ]
  },
  {
   "cell_type": "markdown",
   "metadata": {},
   "source": [
    "Copyright © 2021 IBM Corporation. All rights reserved.\n"
   ]
  }
 ],
 "metadata": {
  "kernelspec": {
   "display_name": "Python",
   "language": "python",
   "name": "conda-env-python-py"
  },
  "language_info": {
   "codemirror_mode": {
    "name": "ipython",
    "version": 3
   },
   "file_extension": ".py",
   "mimetype": "text/x-python",
   "name": "python",
   "nbconvert_exporter": "python",
   "pygments_lexer": "ipython3",
   "version": "3.7.12"
  },
  "prev_pub_hash": "64f1b0aac408997185c47caba18730e0028b75e7934a0e5bf0ae73c5cb7ba677"
 },
 "nbformat": 4,
 "nbformat_minor": 4
}
